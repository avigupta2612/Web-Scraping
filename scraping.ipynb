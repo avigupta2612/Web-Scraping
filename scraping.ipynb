{
 "cells": [
  {
   "cell_type": "code",
   "execution_count": 84,
   "metadata": {},
   "outputs": [],
   "source": [
    "import selenium\n",
    "from selenium import webdriver"
   ]
  },
  {
   "cell_type": "code",
   "execution_count": 85,
   "metadata": {},
   "outputs": [],
   "source": [
    "Driver_path='C:\\\\Users\\\\Avi\\\\Desktop\\\\images\\\\chromedriver'"
   ]
  },
  {
   "cell_type": "code",
   "execution_count": 86,
   "metadata": {},
   "outputs": [],
   "source": [
    "\n",
    "wd = webdriver.Chrome(executable_path=Driver_path)"
   ]
  },
  {
   "cell_type": "code",
   "execution_count": 87,
   "metadata": {},
   "outputs": [],
   "source": []
  },
  {
   "cell_type": "code",
   "execution_count": 88,
   "metadata": {},
   "outputs": [],
   "source": []
  },
  {
   "cell_type": "code",
   "execution_count": 89,
   "metadata": {},
   "outputs": [],
   "source": []
  },
  {
   "cell_type": "code",
   "execution_count": 90,
   "metadata": {},
   "outputs": [],
   "source": [
    "\n",
    "def fetch_image_urls(query:str, max_links_to_fetch:int, wd:webdriver, sleep_between_interactions:int=1):\n",
    "    def scroll_to_end(wd):\n",
    "        wd.execute_script(\"window.scrollTo(0, document.body.scrollHeight);\")\n",
    "        time.sleep(sleep_between_interactions)    \n",
    "    \n",
    "    # build the google query\n",
    "    search_url = \"https://www.google.com/search?safe=off&site=&tbm=isch&source=hp&q={q}&oq={q}&gs_l=img\"\n",
    "\n",
    "    # load the page\n",
    "    wd.get(search_url.format(q=query))\n",
    "\n",
    "    image_urls = set()\n",
    "    image_count = 0\n",
    "    results_start = 0\n",
    "    while image_count < max_links_to_fetch:\n",
    "        scroll_to_end(wd)\n",
    "\n",
    "        # get all image thumbnail results\n",
    "        thumbnail_results = wd.find_elements_by_css_selector(\"img.rg_ic\")\n",
    "        number_results = len(thumbnail_results)\n",
    "        \n",
    "        print(f\"Found: {number_results} search results. Extracting links from {results_start}:{number_results}\")\n",
    "        \n",
    "        for img in thumbnail_results[results_start:number_results]:\n",
    "            # try to click every thumbnail such that we can get the real image behind it\n",
    "            try:\n",
    "                img.click()\n",
    "                time.sleep(sleep_between_interactions)\n",
    "            except Exception:\n",
    "                continue\n",
    "\n",
    "            # extract image urls    \n",
    "            actual_images = wd.find_elements_by_css_selector('img.irc_mi')\n",
    "            for actual_image in actual_images:\n",
    "                if actual_image.get_attribute('src'):\n",
    "                    image_urls.add(actual_image.get_attribute('src'))\n",
    "\n",
    "            image_count = len(image_urls)\n",
    "\n",
    "            if len(image_urls) >= max_links_to_fetch:\n",
    "                print(f\"Found: {len(image_urls)} image links, done!\")\n",
    "                break\n",
    "        else:\n",
    "            print(\"Found:\", len(image_urls), \"image links, looking for more ...\")\n",
    "            time.sleep(1)\n",
    "            load_more_button = wd.find_element_by_css_selector(\".ksb\")\n",
    "            if load_more_button:\n",
    "                wd.execute_script(\"document.querySelector('.ksb').click();\")\n",
    "\n",
    "        # move the result startpoint further down\n",
    "        results_start = len(thumbnail_results)\n",
    "\n",
    "    return image_urls"
   ]
  },
  {
   "cell_type": "code",
   "execution_count": 91,
   "metadata": {},
   "outputs": [
    {
     "name": "stdout",
     "output_type": "stream",
     "text": [
      "Requirement already satisfied: pillow in c:\\programdata\\anaconda3\\lib\\site-packages (5.4.1)\n",
      "Note: you may need to restart the kernel to use updated packages.\n"
     ]
    }
   ],
   "source": [
    "pip install pillow"
   ]
  },
  {
   "cell_type": "code",
   "execution_count": 92,
   "metadata": {},
   "outputs": [],
   "source": [
    "import PIL"
   ]
  },
  {
   "cell_type": "code",
   "execution_count": 93,
   "metadata": {},
   "outputs": [],
   "source": [
    "\n",
    "def persist_image(folder_path:str,url:str):\n",
    "    try:\n",
    "        image_content = requests.get(url).content\n",
    "\n",
    "    except Exception as e:\n",
    "        print(f\"ERROR - Could not download {url} - {e}\")\n",
    "\n",
    "    try:\n",
    "        image_file = io.BytesIO(image_content)\n",
    "        image = Image.open(image_file).convert('RGB')\n",
    "        file_path = os.path.join(folder_path,hashlib.sha1(image_content).hexdigest()[:10] + '.jpg')\n",
    "        with open(file_path, 'wb') as f:\n",
    "            image.save(f, \"JPEG\", quality=85)\n",
    "        print(f\"SUCCESS - saved {url} - as {file_path}\")\n",
    "    except Exception as e:\n",
    "        print(f\"ERROR - Could not save {url} - {e}\")"
   ]
  },
  {
   "cell_type": "code",
   "execution_count": 94,
   "metadata": {},
   "outputs": [],
   "source": [
    "\n",
    "def search_and_download(search_term:str,driver_path:str,target_path='./images',number_images=100):\n",
    "    target_folder = os.path.join(target_path,'_'.join(search_term.lower().split(' ')))\n",
    "\n",
    "    if not os.path.exists(target_folder):\n",
    "        os.makedirs(target_folder)\n",
    "\n",
    "    with webdriver.Chrome(executable_path=driver_path) as wd:\n",
    "        res = fetch_image_urls(search_term, number_images, wd=wd, sleep_between_interactions=0.5)\n",
    "        \n",
    "    for elem in res:\n",
    "        persist_image(target_folder,elem)"
   ]
  },
  {
   "cell_type": "code",
   "execution_count": 95,
   "metadata": {},
   "outputs": [],
   "source": [
    "import os\n",
    "from time import sleep\n",
    "import time\n",
    "import requests\n",
    "import io\n",
    "import PIL.Image\n",
    "from PIL import Image\n",
    "import hashlib"
   ]
  },
  {
   "cell_type": "code",
   "execution_count": 96,
   "metadata": {},
   "outputs": [
    {
     "name": "stdout",
     "output_type": "stream",
     "text": [
      "Found: 200 search results. Extracting links from 0:200\n",
      "Found: 100 image links, done!\n",
      "SUCCESS - saved https://thumbs.dreamstime.com/z/vegetable-peels-38065111.jpg - as ./images\\vegetable_peels\\cce4f7145f.jpg\n",
      "SUCCESS - saved https://static.toiimg.com/photo/65231303.cms - as ./images\\vegetable_peels\\bf7a759932.jpg\n",
      "SUCCESS - saved https://edibleaspen.ediblecommunities.com/sites/default/files/styles/recipe_banner/public/images/recipe/vegetable-peel-chips-1.jpg?itok=-KP4_hPK - as ./images\\vegetable_peels\\a0247c24ea.jpg\n",
      "SUCCESS - saved https://trashmagination.com/wp-content/uploads/2019/04/julia-kouzenkov-1360704-unsplash-e1555030727197-700x400.jpg - as ./images\\vegetable_peels\\dbb72bcbd1.jpg\n",
      "SUCCESS - saved https://i.ndtvimg.com/i/2016-12/fruits-and-vegetables_620x350_81482747568.jpg - as ./images\\vegetable_peels\\9a59bd0b83.jpg\n",
      "SUCCESS - saved https://media.istockphoto.com/photos/fruit-and-vegetable-waste-recycle-on-white-picture-id905480508?k=6&m=905480508&s=612x612&w=0&h=BdTB6OQAAat56_K00nYGEdyEnpsriJDWZiLhk7pTTZc= - as ./images\\vegetable_peels\\9de9c1bc45.jpg\n",
      "SUCCESS - saved https://anythingher.com/wp-content/uploads/2019/06/fruits-vegetable-peels.jpg - as ./images\\vegetable_peels\\bb1e0e055d.jpg\n",
      "SUCCESS - saved https://images.indianexpress.com/2018/04/banana-ts1.jpg - as ./images\\vegetable_peels\\9feb8d4807.jpg\n",
      "SUCCESS - saved https://www.thespruceeats.com/thmb/uBYNVO_RRhO_bDIKCGrmiXippI0=/1732x1732/filters:no_upscale():max_bytes(150000):strip_icc()/Peelingpineapple-GettyImages-522083050-59a370dd9abed50011b5fe10.jpg - as ./images\\vegetable_peels\\bc0d22c3b0.jpg\n",
      "SUCCESS - saved https://thumbs.dreamstime.com/z/fresh-vegetable-peels-knife-towel-scraps-peeler-house-waste-compost-management-concept-107963599.jpg - as ./images\\vegetable_peels\\686d627104.jpg\n",
      "ERROR - Could not save https://www.forgerecycling.co.uk/blog/wp-content/uploads/2016/08/bigstock-134574722-825x510.jpg - cannot identify image file <_io.BytesIO object at 0x0000025E61225D00>\n",
      "SUCCESS - saved https://cdn.apartmenttherapy.info/image/fetch/f_jpg,q_auto:eco,c_fill,g_auto,w_1500,ar_1:1/https%3A%2F%2Fstorage.googleapis.com%2Fgen-atmedia%2F3%2F2016%2F01%2Fb006c57ff7cb324753a370ff97e19046dc25202d.jpeg - as ./images\\vegetable_peels\\b421d3127e.jpg\n",
      "SUCCESS - saved https://www.stickpng.com/assets/images/5a68f8a6988f2a795ef76cd6.png - as ./images\\vegetable_peels\\8915cb845e.jpg\n",
      "SUCCESS - saved https://i0.wp.com/images-prod.healthline.com/hlcmsresource/images/AN_images/garlic-red-onion-carrot-and-potato-1296x728.jpg?w=1155&h=1528 - as ./images\\vegetable_peels\\2a60ce62c6.jpg\n",
      "SUCCESS - saved https://media.mnn.com/assets/images/2013/07/orange_1.jpg.560x0_q80_crop-smart.jpg - as ./images\\vegetable_peels\\89c20e1198.jpg\n",
      "SUCCESS - saved https://cdn.apartmenttherapy.info/image/fetch/f_auto,q_auto:eco,c_fill,g_auto,w_1500/https%3A%2F%2Fstorage.googleapis.com%2Fgen-atmedia%2F3%2F2015%2F06%2Fa8766c3559d6d4ca38778bdb6690612033069467.jpeg - as ./images\\vegetable_peels\\906c207508.jpg\n",
      "SUCCESS - saved https://www.boldsky.com/img/2011/07/x27-potato-peels-270711.jpg.pagespeed.ic.MWDEMUtgGc.jpg - as ./images\\vegetable_peels\\5f7359d1b4.jpg\n",
      "SUCCESS - saved https://spiralizershq.com/wp-content/uploads/2018/04/vegetable-peel-compost.png - as ./images\\vegetable_peels\\9de826ae13.jpg\n",
      "SUCCESS - saved http://topnaturalremedies.net/wp-content/uploads/2015/08/veggie-and-fruit-peels-benefits.jpg - as ./images\\vegetable_peels\\bfa7d56276.jpg\n",
      "SUCCESS - saved https://images.indianexpress.com/2018/04/oranges-ts1.jpg - as ./images\\vegetable_peels\\b278635e76.jpg\n",
      "SUCCESS - saved https://sbly-web-prod-shareably.netdna-ssl.com/wp-content/uploads/2019/05/21124025/Untitled-design-2019-05-21T154010.575.png - as ./images\\vegetable_peels\\7689d92c84.jpg\n",
      "SUCCESS - saved https://static1.bigstockphoto.com/7/3/2/large1500/237894646.jpg - as ./images\\vegetable_peels\\1eef9341fc.jpg\n",
      "ERROR - Could not save https://www.farmersalmanac.com/wp-content/uploads/2018/02/Uses-Onion-Garlic-Skin-Peels-i667417990-600x319.jpeg - cannot identify image file <_io.BytesIO object at 0x0000025E612256D0>\n",
      "SUCCESS - saved http://whatwillwedotoday.com/images/2011/08/1rujak10.jpg - as ./images\\vegetable_peels\\9937e96633.jpg\n",
      "SUCCESS - saved https://snact.co.uk/wp-content/uploads/2018/05/orange-1403256_640.jpg - as ./images\\vegetable_peels\\5875e31017.jpg\n",
      "SUCCESS - saved https://akm-img-a-in.tosshub.com/indiatoday/images/story/201703/peel1-yahoocom-story_647_030317053836.jpg - as ./images\\vegetable_peels\\6aa37d1abb.jpg\n",
      "SUCCESS - saved https://i.ndtvimg.com/i/2016-12/potato-620_620x350_71482825089.jpg - as ./images\\vegetable_peels\\7ecda2e665.jpg\n",
      "SUCCESS - saved https://st1.thehealthsite.com/wp-content/uploads/2014/12/Health-and-beauty-benefits-of-potato-peels.jpg - as ./images\\vegetable_peels\\230172a662.jpg\n",
      "SUCCESS - saved https://i.pinimg.com/originals/8c/33/d9/8c33d936ec93d88c7cdca880183f3881.jpg - as ./images\\vegetable_peels\\76351c8b43.jpg\n",
      "SUCCESS - saved https://parade.com/wp-content/uploads/2016/11/Carrot-Slideshow.jpg - as ./images\\vegetable_peels\\7a70454401.jpg\n",
      "SUCCESS - saved https://images-production.freetls.fastly.net/uploads/posts/image/164172/how-to-purify-water-naturally.jpg?auto=compress&crop=faces,top&fit=crop&q=55&w=750&h=562 - as ./images\\vegetable_peels\\b85f4a2c2e.jpg\n",
      "SUCCESS - saved https://www.stickpng.com/assets/images/5a68f93c988f2a795ef76ce6.png - as ./images\\vegetable_peels\\6fcc9427a0.jpg\n",
      "SUCCESS - saved http://falmouthfarmersmarket.com/wp-content/uploads/2016/10/IMG_5642.jpg - as ./images\\vegetable_peels\\6b90b5c993.jpg\n",
      "SUCCESS - saved https://www.apollopharmacy.in/blog/wp-content/uploads/2017/08/Veggies_Fruits_Peel_Pic-700x430.jpg - as ./images\\vegetable_peels\\1c93f15b7e.jpg\n",
      "SUCCESS - saved https://www.asianet.in/uploads/2013/12/Cucumber.jpg - as ./images\\vegetable_peels\\616fcc68e8.jpg\n",
      "SUCCESS - saved https://www.washingtonpost.com/resizer/3hXJtWwkWFr837Ca-dsELL7l1p4=/1484x0/arc-anglerfish-washpost-prod-washpost.s3.amazonaws.com/public/DDP52BZLHA33ZFNWKNRZ2GWBXQ.jpg - as ./images\\vegetable_peels\\3d03a8534a.jpg\n",
      "SUCCESS - saved https://previews.123rf.com/images/margouillat/margouillat1006/margouillat100600094/7227239-vegetable-peels-and-peeler.jpg - as ./images\\vegetable_peels\\fad6d2cb7a.jpg\n",
      "SUCCESS - saved https://www.beautyglimpse.com/wp-content/uploads/2014/12/vegetable-peel.jpg - as ./images\\vegetable_peels\\39a39f3376.jpg\n",
      "SUCCESS - saved https://lovefoodhatewaste.co.nz/wp-content/uploads/2017/08/Peeling-carrots.jpg - as ./images\\vegetable_peels\\9e04cecc2f.jpg\n",
      "SUCCESS - saved https://cmkt-image-prd.freetls.fastly.net/0.1.0/ps/6491019/910/607/m2/fpnw/wm1/hsvzhumkdjbnuwu2vavv6pq9f9woqxnh9wpoeroivnevfnpxl4swcrjnqkob36ek-.jpg?1559667344&s=cc058d152c7418fb4ed640555a0fc406 - as ./images\\vegetable_peels\\eee571fc48.jpg\n",
      "SUCCESS - saved https://i.ytimg.com/vi/N5DkD2KiXaI/maxresdefault.jpg - as ./images\\vegetable_peels\\344c7581f5.jpg\n",
      "SUCCESS - saved https://static.standard.co.uk/s3fs-public/thumbnails/image/2018/10/17/16/khosha-bhaja.jpg?w968 - as ./images\\vegetable_peels\\16a5950b92.jpg\n",
      "SUCCESS - saved https://experthometips.com/images/content/1147-680x393.png - as ./images\\vegetable_peels\\49b1766bee.jpg\n",
      "SUCCESS - saved http://www.dogreen.in/wp-content/uploads/2016/09/Peels-final.jpg - as ./images\\vegetable_peels\\0dd2c5c54f.jpg\n",
      "SUCCESS - saved https://image.shutterstock.com/image-photo/vegetable-scraps-ready-composting-260nw-672130162.jpg - as ./images\\vegetable_peels\\d600380d0c.jpg\n",
      "SUCCESS - saved https://i.guim.co.uk/img/media/b0ec6e87c133f90c0cad5d128d89424f764b964e/0_346_5184_3110/master/5184.jpg?width=300&quality=85&auto=format&fit=max&s=da8e8d32ef1bbce1314f549826bb9c12 - as ./images\\vegetable_peels\\5ba66f9222.jpg\n",
      "SUCCESS - saved https://happy-mothering.com/wp-content/uploads/2015/05/alternative-uses-vegetable-peels-scraps.jpg - as ./images\\vegetable_peels\\07af15d8d3.jpg\n",
      "SUCCESS - saved https://i.ndtvimg.com/i/2017-10/peels-vegetable-and-fruits_620x350_71507293957.jpg - as ./images\\vegetable_peels\\836c249bad.jpg\n",
      "SUCCESS - saved https://www.wwee.org/wp-content/uploads/2015/04/1.png - as ./images\\vegetable_peels\\6792f3251c.jpg\n",
      "SUCCESS - saved https://cdn.organic.org/wp-content/uploads/2013/09/carrot-peels-COMP-3171582.jpg - as ./images\\vegetable_peels\\e7ce533f69.jpg\n"
     ]
    },
    {
     "name": "stdout",
     "output_type": "stream",
     "text": [
      "SUCCESS - saved https://www.berkeleywellness.com/sites/default/files/field/image/400-07035993c-Masterfile-dodoman_774_500.jpg - as ./images\\vegetable_peels\\5811b46e71.jpg\n",
      "SUCCESS - saved https://www.1mhealthtips.com/wp-content/uploads/2015/10/i-PqdqhrC-M3.jpg - as ./images\\vegetable_peels\\e39526a649.jpg\n",
      "SUCCESS - saved https://cdn7.dissolve.com/p/D9_17_019/D9_17_019_1200.jpg - as ./images\\vegetable_peels\\8d3ec78dd6.jpg\n",
      "SUCCESS - saved https://image.shutterstock.com/image-photo/waste-based-cooking-elevated-view-260nw-621960833.jpg - as ./images\\vegetable_peels\\42ccd62953.jpg\n",
      "SUCCESS - saved https://image.shutterstock.com/image-photo/compost-pile-hill-kitchen-scraps-260nw-170960243.jpg - as ./images\\vegetable_peels\\df499ec861.jpg\n",
      "SUCCESS - saved https://femina.wwmindia.com/content/2018/jan/lead_shutterstock_75079306_in_1517311744.jpg - as ./images\\vegetable_peels\\75deef8995.jpg\n",
      "SUCCESS - saved https://www.rd.com/wp-content/uploads/2019/06/peel-potato-760x506.jpg - as ./images\\vegetable_peels\\2f0bf7055e.jpg\n",
      "SUCCESS - saved https://www.berkeleywellness.com/sites/default/files/400-04220974c-Masterfile-nndemidchick.jpg - as ./images\\vegetable_peels\\04c1955069.jpg\n",
      "SUCCESS - saved https://images.onlymyhealth.com/imported/images/2019/August/06_Aug_2019/big3veggie.jpg - as ./images\\vegetable_peels\\aeb499f628.jpg\n",
      "SUCCESS - saved https://previews.123rf.com/images/aga7ta/aga7ta1704/aga7ta170400078/76416701-group-of-vegetable-peels-for-compost.jpg - as ./images\\vegetable_peels\\d8999fe958.jpg\n",
      "SUCCESS - saved https://c8.alamy.com/comp/CN75GE/vegetable-peelings-kitchen-waste-food-waste-CN75GE.jpg - as ./images\\vegetable_peels\\bfab8ccf50.jpg\n",
      "SUCCESS - saved https://balconygardenweb-lhnfx0beomqvnhspx.netdna-ssl.com/wp-content/uploads/2016/08/7baf9cbd-a2b3-4c8b-8e25-9f15c1bc068b.jpg - as ./images\\vegetable_peels\\8d81f24ba3.jpg\n",
      "SUCCESS - saved https://femina.wwmindia.com/content/2018/jan/revive_tired_eyes_shutterstock_374475328_in_1517311776.jpg - as ./images\\vegetable_peels\\b944920a66.jpg\n",
      "SUCCESS - saved https://c8.alamy.com/comp/EJE671/a-pile-of-food-waste-such-as-eggshells-and-fruit-and-vegetable-peels-EJE671.jpg - as ./images\\vegetable_peels\\459b9b9c9b.jpg\n",
      "SUCCESS - saved https://previews.123rf.com/images/margouillat/margouillat1006/margouillat100600095/7227236-vegetable-peels.jpg - as ./images\\vegetable_peels\\1362f10237.jpg\n",
      "SUCCESS - saved https://thumbs.dreamstime.com/b/pile-food-waste-such-as-eggshells-fruit-vegetable-peels-newspaper-white-background-whitebackground-144958948.jpg - as ./images\\vegetable_peels\\fd0bcf4eb1.jpg\n",
      "SUCCESS - saved https://i.pinimg.com/originals/cd/2d/ab/cd2dab0c5f48e794b2ced67971d2c782.jpg - as ./images\\vegetable_peels\\1a1bd70698.jpg\n",
      "SUCCESS - saved https://static8.depositphotos.com/1027198/921/i/950/depositphotos_9214532-stock-photo-vegetable-peels.jpg - as ./images\\vegetable_peels\\7862c8cd60.jpg\n",
      "SUCCESS - saved https://previews.123rf.com/images/aga7ta/aga7ta1710/aga7ta171000030/87113267-kitchen-vegetable-peelings-and-waste-for-compost.jpg - as ./images\\vegetable_peels\\7ad9bebb0e.jpg\n",
      "SUCCESS - saved https://i.pinimg.com/originals/e0/66/29/e06629a50c6046ebda8db5dadf6f353f.jpg - as ./images\\vegetable_peels\\23c13ccc81.jpg\n",
      "SUCCESS - saved https://wwee.org/wp-content/uploads/2015/04/Uses-for-Leftover-Fruit-and-Vegetable-Peels.jpg - as ./images\\vegetable_peels\\89889bc80a.jpg\n",
      "SUCCESS - saved https://previews.123rf.com/images/okolaa/okolaa1801/okolaa180100012/94255729-fresh-vegetable-peels-with-peeler-knife-and-towel-.jpg - as ./images\\vegetable_peels\\e120dafc1e.jpg\n",
      "SUCCESS - saved https://c8.alamy.com/comp/MKA2J6/peeled-vegetablesin-metal-bowl-top-view-MKA2J6.jpg - as ./images\\vegetable_peels\\5d582721cd.jpg\n",
      "SUCCESS - saved https://imagesvc.meredithcorp.io/v3/mm/image?url=https%3A%2F%2Fcdn-image.foodandwine.com%2Fsites%2Fdefault%2Ffiles%2F201207-HD-goat-cheese-ravioli-with-orange-and-fennel.jpg&w=400&c=sc&poi=face&q=85 - as ./images\\vegetable_peels\\89fcf5b780.jpg\n",
      "SUCCESS - saved https://www.misskyra.com/thumb/msid-63653607,width-550,resizemode-4/63653607.jpg - as ./images\\vegetable_peels\\b4a7df3c38.jpg\n",
      "SUCCESS - saved https://www.bridesire.com/blog/wp-content/uploads/2014/03/fruit-peel.jpg - as ./images\\vegetable_peels\\0f07e7773a.jpg\n",
      "SUCCESS - saved https://hips.hearstapps.com/hmg-prod.s3.amazonaws.com/images/static/potato-peels-ts-104258450-1455236101.jpg?resize=480:* - as ./images\\vegetable_peels\\7f5d649a48.jpg\n",
      "SUCCESS - saved https://i2.wp.com/everydayvegcooking.com/wp-content/uploads/2017/11/peels-vege-1.png?fit=495%2C400&ssl=1 - as ./images\\vegetable_peels\\657135ca08.jpg\n",
      "SUCCESS - saved https://images.indianexpress.com/2018/04/cucumber-pixabay1.jpg - as ./images\\vegetable_peels\\f63d38fe85.jpg\n",
      "SUCCESS - saved https://cdn.howtothinkpositive.net/wp-content/uploads/2014/04/20140422-224358.jpg - as ./images\\vegetable_peels\\3fd75d8140.jpg\n",
      "SUCCESS - saved https://www.shape.com.sg/wp-content/uploads/2018/05/fruit_vegetable_peel_cooking-e1526011421956.jpg - as ./images\\vegetable_peels\\4fe83b3143.jpg\n",
      "SUCCESS - saved https://under500calories.com/photos/750x900/43576.jpg - as ./images\\vegetable_peels\\4f97ed0e3d.jpg\n",
      "SUCCESS - saved https://comps.canstockphoto.com/organic-waste-made-of-food-close-stock-photo_csp56173125.jpg - as ./images\\vegetable_peels\\1fe9df998b.jpg\n",
      "SUCCESS - saved https://previews.123rf.com/images/stockfood/stockfood1706/stockfood170605208/81461148-mixed-vegetable-peels-on-a-plate.jpg - as ./images\\vegetable_peels\\d37e4d4cfb.jpg\n",
      "SUCCESS - saved https://www.boldsky.com/img/2012/08/22-vegetable-peels-220812.jpg - as ./images\\vegetable_peels\\186646edfd.jpg\n",
      "SUCCESS - saved https://english.cdn.zeenews.com/sites/default/files/2015/10/19/424078-fruit-peels.jpg - as ./images\\vegetable_peels\\3653a3ef8c.jpg\n",
      "SUCCESS - saved https://i.ndtvimg.com/i/2017-03/carrots-620x350_620x350_61488955096.jpg - as ./images\\vegetable_peels\\c6c8017f76.jpg\n",
      "SUCCESS - saved https://media.mnn.com/assets/images/2013/07/orange_1.jpg.900x0_q100_blur.jpg - as ./images\\vegetable_peels\\7afc1878b9.jpg\n",
      "SUCCESS - saved https://ediblesandiego.ediblecommunities.com/sites/default/files/styles/recipe_banner/public/images/recipe/multicolored-peeled-carrots-picture-id1050903234.jpg?itok=aBiQZi4A - as ./images\\vegetable_peels\\dc3d6897d0.jpg\n",
      "SUCCESS - saved https://2.bp.blogspot.com/-a2EXDH8rRNM/XKhOZemYd6I/AAAAAAAAAPA/IeOy0Pm9-SUfnYA4xfiPZ3LTm0ELAIS6wCLcBGAs/s640/depositphotos_205155692-stock-video-kitchen-scraps-fruit-vegetables-peels.jpg - as ./images\\vegetable_peels\\4c0ffa89a1.jpg\n",
      "SUCCESS - saved https://images.indianexpress.com/2018/04/onions-759-filephoto1.jpg - as ./images\\vegetable_peels\\8de6c0357f.jpg\n",
      "SUCCESS - saved https://previews.123rf.com/images/rarrarorro/rarrarorro1906/rarrarorro190600008/126114639-vegetable-peels-of-carrots-potatoes-and-zucchini-freshly-peeled-with-a-peeler-concept-of-food-and-he.jpg - as ./images\\vegetable_peels\\ecddcaf2be.jpg\n",
      "SUCCESS - saved http://www.maraknows.com/wp-content/uploads/2015/05/how-to-make-mulch-and-compost-1170x770.png - as ./images\\vegetable_peels\\4be50a8864.jpg\n",
      "SUCCESS - saved https://images.indianexpress.com/2018/04/mango-pixabay1.jpg - as ./images\\vegetable_peels\\3f5485aec0.jpg\n",
      "SUCCESS - saved https://cdn3.mycity4kids.com/images/article-images/web/headersV2/img-20181227-5c24a5547d5cd.jpg - as ./images\\vegetable_peels\\785631741a.jpg\n",
      "SUCCESS - saved https://www.rd.com/wp-content/uploads/2019/06/potatoes-760x506.jpg - as ./images\\vegetable_peels\\5a7653948f.jpg\n",
      "SUCCESS - saved https://experthometips.scdn5.secure.raxcdn.com/images/content/7391-680x453.jpg - as ./images\\vegetable_peels\\492f4ce1c2.jpg\n",
      "SUCCESS - saved https://img.buzzfeed.com/thumbnailer-prod-us-east-1/video-api/assets/211735.jpg - as ./images\\vegetable_peels\\6126ab20a8.jpg\n",
      "SUCCESS - saved https://media3.s-nbcnews.com/i/newscms/2015_17/504336/carrots-apple-peel-stock-today-tease-150422_71f74b32ec6b508ea062fc9e415f432e.jpg - as ./images\\vegetable_peels\\03e23905f1.jpg\n",
      "SUCCESS - saved https://spiralizershq.com/wp-content/uploads/2018/04/vegetable-peels.jpg - as ./images\\vegetable_peels\\cf2621ec64.jpg\n"
     ]
    }
   ],
   "source": [
    "search_term='vegetable peels'\n",
    "search_and_download(search_term=search_term,\n",
    "                   driver_path=Driver_path)"
   ]
  },
  {
   "cell_type": "code",
   "execution_count": null,
   "metadata": {},
   "outputs": [],
   "source": []
  }
 ],
 "metadata": {
  "kernelspec": {
   "display_name": "Python 3",
   "language": "python",
   "name": "python3"
  },
  "language_info": {
   "codemirror_mode": {
    "name": "ipython",
    "version": 3
   },
   "file_extension": ".py",
   "mimetype": "text/x-python",
   "name": "python",
   "nbconvert_exporter": "python",
   "pygments_lexer": "ipython3",
   "version": "3.7.3"
  }
 },
 "nbformat": 4,
 "nbformat_minor": 2
}
